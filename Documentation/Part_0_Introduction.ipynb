{
 "cells": [
  {
   "cell_type": "markdown",
   "metadata": {},
   "source": [
    "<h1>Algorithms and Designs Documentation Part 0: Introduction</h1>"
   ]
  },
  {
   "cell_type": "markdown",
   "metadata": {},
   "source": [
    "<b>Author: Jingze Dai</b>\n",
    "<p>McMaster University, Honors Computer Science (Coop) student (Currently 4th year)</p>\n",
    "<p>Preferred Email Address: daij24@mcmaster.ca</p>\n",
    "<p>Email Address: david1147062956@163.com</p>"
   ]
  },
  {
   "cell_type": "markdown",
   "metadata": {},
   "source": [
    "<i>This project is mainly about algorithms' designs and implementations. This project includes more than 70 kinds of algorithm categories, and for each algorithm category there is a file includes all of its implementation. This project includes algorithm designs with Python, C++ and Java Implementations.</i>"
   ]
  },
  {
   "cell_type": "markdown",
   "metadata": {},
   "source": [
    "<i>Your Feedback is important for David's further development. If you want to give feedbacks or suggestions, please email David at daij24@mcmaster.ca.</i>"
   ]
  },
  {
   "cell_type": "markdown",
   "metadata": {},
   "source": [
    "<b>Module 1: Sorting (Basic Sorting Methods)</b>\n",
    "<ul>\n",
    "  <li>Selection Sort</li>\n",
    "  <li>Insertion Sort</li>\n",
    "  <li>Merge Sort</li>\n",
    "  <li>Shell Sort</li>\n",
    "  <li>Quick Sort</li>\n",
    "</ul>"
   ]
  },
  {
   "cell_type": "markdown",
   "metadata": {},
   "source": [
    "<b>Module 2: BFS and DFS</b>\n",
    "<ul>\n",
    "  <li>Breadth First Search (BFS)</li>\n",
    "  <li>Depth First Search (DFS)</li>\n",
    "</ul>"
   ]
  }
 ],
 "metadata": {
  "kernelspec": {
   "display_name": "Python 3",
   "language": "python",
   "name": "python3"
  },
  "language_info": {
   "codemirror_mode": {
    "name": "ipython",
    "version": 3
   },
   "file_extension": ".py",
   "mimetype": "text/x-python",
   "name": "python",
   "nbconvert_exporter": "python",
   "pygments_lexer": "ipython3",
   "version": "3.8.5"
  }
 },
 "nbformat": 4,
 "nbformat_minor": 4
}
