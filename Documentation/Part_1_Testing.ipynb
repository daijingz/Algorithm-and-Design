{
 "cells": [
  {
   "cell_type": "markdown",
   "metadata": {},
   "source": [
    "<h1>Algorithms and Designs Documentation Part 1: Testing</h1>"
   ]
  },
  {
   "cell_type": "markdown",
   "metadata": {},
   "source": [
    "<b>Author: Jingze Dai</b>\n",
    "<p>McMaster University, Honors Computer Science (Coop) student (Currently 4th year)</p>\n",
    "<p>Preferred Email Address: daij24@mcmaster.ca</p>\n",
    "<p>Email Address: david1147062956@163.com</p>\n",
    "<a href=\"https://github.com/daijingz\">Github Homepage</a>\n",
    "<a href=\"https://www.linkedin.com/in/jingze-dai/\">Linkedin Webpage</a>"
   ]
  },
  {
   "cell_type": "markdown",
   "metadata": {},
   "source": [
    "<i>This project is mainly about algorithms' designs and implementations. This project includes more than 70 kinds of algorithm introduced by online tutorials, websites, textbooks, documentations and other resources. This page includes a complete menu for explaining categories of algorithms and other programs. To find the implementation file, please look at the file name provides on the back side of different modules.</i>"
   ]
  },
  {
   "cell_type": "markdown",
   "metadata": {},
   "source": [
    "<i>Because of time limits, lots of works have not been uploaded to this repository. Sorry for inconvenience. More Information is coming soon.</i>"
   ]
  },
  {
   "cell_type": "markdown",
   "metadata": {},
   "source": [
    "<i>Your Feedback is important for David's further development. If you want to give feedbacks and suggestions, or you want to participate in working and learning together, please email David at daij24@mcmaster.ca. If you want David to provide contributions to your opensource project or you want David to help you with any programming issues, please email David at daij24@mcmaster.ca as well. Thank you for your help.</i>"
   ]
  },
  {
   "cell_type": "markdown",
   "metadata": {},
   "source": [
    "<h3>Testing Instructions</h3>"
   ]
  },
  {
   "cell_type": "markdown",
   "metadata": {},
   "source": [
    "<b>Module 0.0: Environment of testing</b>\n",
    "<p>Operating System: Windows 10 (Both 32 and 64 bits included)</p>\n",
    "<p>Python Software Environment: Pycharm (version )</p>"
   ]
  },
  {
   "cell_type": "markdown",
   "metadata": {},
   "source": [
    "<b>Module 0.1: Introduction of testing (Python)</b>\n",
    "<p>This part of program will include 2 types of testing: <b>Regular testing and Unit testing (pytest).</b> Regular testing includes test cases at the bottom of regular programs, and unit testing includes test cases at independent files.</p>\n",
    "<br>\n",
    "<b>Regular File instructions</b>\n",
    "<p>Step 1: look at constructor and build your own test cases.</p>\n",
    "<p>Step 2: </p>"
   ]
  },
  {
   "cell_type": "markdown",
   "metadata": {},
   "source": [
    "<b>Module 0.2: Introduction of testing (Java)</b>\n",
    "<p>This part of program will include 2 types of testing: <b>Regular testing and Unit testing (JUnit).</b> Regular testing includes test cases at the bottom of regular programs, and unit testing includes test cases at independent files.</p>"
   ]
  },
  {
   "cell_type": "markdown",
   "metadata": {},
   "source": [
    "<b>Module 0.3: Introduction of testing (C++)</b>\n",
    "<p>This part of program will include 2 types of testing: <b>Regular testing and Unit testing.</b> Regular testing includes test cases at the bottom of regular programs, and unit testing includes test cases at independent files.</p>"
   ]
  },
  {
   "cell_type": "markdown",
   "metadata": {},
   "source": [
    "<b>Module 0.4: Introduction of testing (Others)</b>\n",
    "<p>This part of program will include 2 types of testing: <b>Regular testing and Unit testing.</b> Regular testing includes test cases at the bottom of regular programs, and unit testing includes test cases at independent files.</p>"
   ]
  },
  {
   "cell_type": "markdown",
   "metadata": {},
   "source": [
    "<b>Module 1: Important notices before start reading</b>\n",
    "<ul>\n",
    "    <li><b>This project has a lot of extra information and guidances, without reading them you may have large-scale difficulties about understanding this project's contents. Please read the instructions before starting looking at this project.</b></li>\n",
    "    <li><b>For a lot of projects, updates are very slow. Some designs and works have not been shown at documentations. You may need to look at codings directly. (Sorry for waiting and contents are coming soon)</b></li>\n",
    "    <li><b>Regular test cases and unit testing's test cases are not equaivalent and </b></li>\n",
    "    <li><b>No program is perfect (i.e. ERROR-FREE). Each program has possibilities of errors and problems. There is a further documentation about</b></li>\n",
    "    <li><b></b></li>\n",
    "</ul>"
   ]
  },
  {
   "cell_type": "markdown",
   "metadata": {},
   "source": [
    "<b>Module 2: Guidance of unit testing</b>"
   ]
  },
  {
   "cell_type": "markdown",
   "metadata": {},
   "source": [
    "<b>Module 3: Menu of Unit testing files</b>"
   ]
  },
  {
   "cell_type": "markdown",
   "metadata": {},
   "source": [
    "<i>Part 1: Self-Introduction</i>\n",
    "<ul>\n",
    "  <li>JSON introduction program (<a href=\"https://github.com/daijingz/Algorithm-and-Design/blob/main/JSON_Introduction.py\">JSON_Introduction.py</a>)</li>\n",
    "  <li>mySQL self-introduction database (<a href=\"https://github.com/daijingz/Algorithm-and-Design/blob/main/SelfDatabase1.py\">SelfDatabase1.py</a>)</li>\n",
    "  <li>MongoDB (pymongo) self-introduction database (<a href=\"https://github.com/daijingz/Algorithm-and-Design/blob/main/SelfDatabase2.py\">SelfDatabase2.py</a>)</li>\n",
    "</ul>"
   ]
  },
  {
   "cell_type": "code",
   "execution_count": null,
   "metadata": {},
   "outputs": [],
   "source": []
  }
 ],
 "metadata": {
  "kernelspec": {
   "display_name": "Python 3",
   "language": "python",
   "name": "python3"
  },
  "language_info": {
   "codemirror_mode": {
    "name": "ipython",
    "version": 3
   },
   "file_extension": ".py",
   "mimetype": "text/x-python",
   "name": "python",
   "nbconvert_exporter": "python",
   "pygments_lexer": "ipython3",
   "version": "3.8.5"
  }
 },
 "nbformat": 4,
 "nbformat_minor": 4
}
