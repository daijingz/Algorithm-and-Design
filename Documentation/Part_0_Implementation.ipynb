{
 "cells": [
  {
   "cell_type": "markdown",
   "metadata": {},
   "source": [
    "<h1>Algorithms and Designs Documentation Part 0: Implementation</h1>"
   ]
  },
  {
   "cell_type": "markdown",
   "metadata": {},
   "source": [
    "<b>Author: Jingze Dai</b>\n",
    "<p>McMaster University, Honors Computer Science (Coop) student (Currently 4th year)</p>\n",
    "<p>Preferred Email Address: daij24@mcmaster.ca</p>\n",
    "<p>Email Address: david1147062956@163.com</p>\n",
    "<a href=\"https://github.com/daijingz\">Github Homepage</a>\n",
    "<a href=\"https://www.linkedin.com/in/jingze-dai/\">Linkedin Webpage</a>"
   ]
  },
  {
   "cell_type": "markdown",
   "metadata": {},
   "source": [
    "<i>This project is mainly about algorithms' designs and implementations. This project includes more than 70 kinds of algorithm introduced by online tutorials, websites, textbooks, documentations and other resources. This page includes a complete menu for explaining categories of algorithms and other programs. To find the implementation file, please look at the file name provides on the back side of different modules (including links).</i>"
   ]
  },
  {
   "cell_type": "markdown",
   "metadata": {},
   "source": [
    "<i>Because of time limits, lots of works have not been uploaded to this repository. Sorry for inconvenience. More Information is coming soon.</i>"
   ]
  },
  {
   "cell_type": "markdown",
   "metadata": {},
   "source": [
    "<i>Your Feedback is important for David's further development. If you want to give feedbacks and suggestions, or you want to participate in working and learning together, please email David at daij24@mcmaster.ca. If you want David to provide contributions to your opensource project or you want David to help you with any programming issues, please email David at daij24@mcmaster.ca as well. Thank you for your help.</i>"
   ]
  },
  {
   "cell_type": "markdown",
   "metadata": {},
   "source": [
    "<b>Module 1: Self-Introduction</b>\n",
    "<p>This module is mainly about the author's self introduction and basic information. (i.e. education, working and volunteering experience, skills and projects) This project uses JSON file handling and different kinds of database (i.e. <b>MySQL</b> in SQL tools and <b>pymongo</b> in MongoDB library) to represent these kinds of basic information with different objects' representations. Please use programs to load data on those databases.</p>\n",
    "<ul>\n",
    "  <li>JSON introduction program (<a href=\"https://github.com/daijingz/Algorithm-and-Design/blob/main/JSON_Introduction.py\">JSON_Introduction.py</a>)</li>\n",
    "  <li>mySQL self-introduction database (<a href=\"https://github.com/daijingz/Algorithm-and-Design/blob/main/SelfDatabase1.py\">SelfDatabase1.py</a>)</li>\n",
    "  <li>MongoDB (pymongo) self-introduction database (<a href=\"https://github.com/daijingz/Algorithm-and-Design/blob/main/SelfDatabase2.py\">SelfDatabase2.py</a>)</li>\n",
    "</ul>"
   ]
  },
  {
   "cell_type": "markdown",
   "metadata": {},
   "source": [
    "<b>Module 2: Sorting (Basic Sorting Methods)</b>\n",
    "<p>This module includes 5 different kinds of sorting methods. All of them have input type \"An integer-containing or floating-point-number-containing list\", and they will return the sorted list (very similar as \"sorted\" method). Different sorting represents different kinds of sorting algorithms with different kinds of time complexity (Cost). Their basic mechanisms are based on information provided by documentations, textbooks and online tutorials.</p>\n",
    "<p>Sample input (All Methods): <b>[5,1,4,3,2]</b></p>\n",
    "<p>Sample output (All Methods): <b>[1,2,3,4,5]</b></p>\n",
    "<ul>\n",
    "  <li>Selection sort (<a href=\"https://github.com/daijingz/Algorithm-and-Design/blob/main/Sort.py\">Sort.py</a>)</li>\n",
    "  <li>Insertion sort (<a href=\"https://github.com/daijingz/Algorithm-and-Design/blob/main/Sort.py\">Sort.py</a>)</li>\n",
    "  <li>Merge sort (<a href=\"https://github.com/daijingz/Algorithm-and-Design/blob/main/Sort.py\">Sort.py</a>)</li>\n",
    "  <li>Shell sort (<a href=\"https://github.com/daijingz/Algorithm-and-Design/blob/main/Sort.py\">Sort.py</a>)</li>\n",
    "  <li>Quick sort (<a href=\"https://github.com/daijingz/Algorithm-and-Design/blob/main/Sort.py\">Sort.py</a>)</li>\n",
    "</ul>"
   ]
  },
  {
   "cell_type": "markdown",
   "metadata": {},
   "source": [
    "<b>Module 3: BFS and DFS</b>\n",
    "<p>This module includes breadth first search (<b>BFS</b>) and depth first search (<b>DFS</b>) implementations on both undirected and directed graphs. File includes analysis and proofs of time complexity.</p>\n",
    "<ul>\n",
    "  <li>Breadth-First-Search (BFS) (<a href=\"https://github.com/daijingz/Algorithm-and-Design/blob/main/BFS.py\">BFS.py</a>)</li>\n",
    "  <li>Depth-First-Search (DFS) (<a href=\"https://github.com/daijingz/Algorithm-and-Design/blob/main/DFS.py\">DFS.py</a>)</li>\n",
    "</ul>"
   ]
  },
  {
   "cell_type": "markdown",
   "metadata": {},
   "source": [
    "<b>Module 4: Sorting (Interesting Sorting Methods)</b>\n",
    "<ul>\n",
    "  <li>Heap sort (<a href=\"https://github.com/daijingz/Algorithm-and-Design/blob/main/Sort2.py\">Sort2.py</a>)</li>\n",
    "  <li>Radix sort (<a href=\"https://github.com/daijingz/Algorithm-and-Design/blob/main/Sort2.py\">Sort2.py</a>)</li>\n",
    "  <li>Bucket sort (<a href=\"https://github.com/daijingz/Algorithm-and-Design/blob/main/Sort2.py\">Sort2.py</a>)</li>\n",
    "</ul>"
   ]
  },
  {
   "cell_type": "markdown",
   "metadata": {},
   "source": [
    "<b>Module 5: 2-Dimensional-Array</b>\n",
    "<ul>\n",
    "  <li>2D-Array List Implementation (<a href=\"https://github.com/daijingz/Algorithm-and-Design/blob/main/2DArray.py\">2DArray.py</a>)</li>\n",
    "  <li>2D-Array Dictionary Implementation (<a href=\"https://github.com/daijingz/Algorithm-and-Design/blob/main/2DArray2.py\">2DArray2.py</a>)</li>\n",
    "  <li>2D-Array Stack Implementation (<a href=\"https://github.com/daijingz/Algorithm-and-Design/blob/main/2DArray3.py\">2DArray3.py</a>)</li>\n",
    "</ul>"
   ]
  },
  {
   "cell_type": "markdown",
   "metadata": {},
   "source": [
    "<b>Module 6: Hiring problem</b>"
   ]
  },
  {
   "cell_type": "markdown",
   "metadata": {},
   "source": [
    "<b>Module 7: Stack and Queue</b>"
   ]
  },
  {
   "cell_type": "markdown",
   "metadata": {},
   "source": [
    "<b>Module 8: Tree (Basic-Structure Tree)</b>"
   ]
  },
  {
   "cell_type": "markdown",
   "metadata": {},
   "source": [
    "<b>Module 9: Linked List</b>"
   ]
  },
  {
   "cell_type": "markdown",
   "metadata": {},
   "source": [
    "<b>Module 10: Rod Cutting Problem</b>"
   ]
  }
 ],
 "metadata": {
  "kernelspec": {
   "display_name": "Python 3",
   "language": "python",
   "name": "python3"
  },
  "language_info": {
   "codemirror_mode": {
    "name": "ipython",
    "version": 3
   },
   "file_extension": ".py",
   "mimetype": "text/x-python",
   "name": "python",
   "nbconvert_exporter": "python",
   "pygments_lexer": "ipython3",
   "version": "3.8.5"
  }
 },
 "nbformat": 4,
 "nbformat_minor": 4
}
