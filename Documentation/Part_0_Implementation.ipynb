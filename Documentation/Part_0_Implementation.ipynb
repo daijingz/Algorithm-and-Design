{
 "cells": [
  {
   "cell_type": "markdown",
   "metadata": {},
   "source": [
    "<h1>Algorithms and Designs Documentation Part 0: Implementation</h1>"
   ]
  },
  {
   "cell_type": "markdown",
   "metadata": {},
   "source": [
    "<b>Author: Jingze Dai</b>\n",
    "<p>McMaster University, Honors Computer Science (Coop) student (Currently 4th year)</p>\n",
    "<p>Preferred Email Address: daij24@mcmaster.ca</p>\n",
    "<p>Email Address: david1147062956@163.com</p>\n",
    "<a href=\"https://github.com/daijingz\">Github Homepage</a>\n",
    "<a href=\"https://www.linkedin.com/in/jingze-dai/\">Linkedin Webpage</a>"
   ]
  },
  {
   "cell_type": "markdown",
   "metadata": {},
   "source": [
    "<i>This project is mainly about algorithms' designs and implementations. This project includes more than 70 kinds of algorithm introduced by online tutorials, websites, textbooks, documentations and other resources. This page includes a complete menu for explaining categories of algorithms and other programs. To find the implementation file, please look at the file name provides on the back side of different modules (including links).</i>"
   ]
  },
  {
   "cell_type": "markdown",
   "metadata": {},
   "source": [
    "<i>Because of time limits, lots of works have not been uploaded to this repository. Sorry for inconvenience. More Information is coming soon.</i>"
   ]
  },
  {
   "cell_type": "markdown",
   "metadata": {},
   "source": [
    "<i>Your Feedback is important for David's further development. If you want to give feedbacks and suggestions, or you want to participate in working and learning together, please email David at daij24@mcmaster.ca. If you want David to provide contributions to your opensource project or you want David to help you with any programming issues, please email David at daij24@mcmaster.ca as well. Thank you for your help.</i>"
   ]
  },
  {
   "cell_type": "markdown",
   "metadata": {},
   "source": [
    "<b>Module 1: Self-Introduction</b>\n",
    "<p>This module is mainly about the author's self introduction and basic information. (i.e. education, working and volunteering experience, skills and projects) This project uses JSON file handling and different kinds of database (i.e. <b>MySQL</b> in SQL tools and <b>pymongo</b> in MongoDB library) to represent these kinds of basic information with different objects' representations. Please use programs to load data on those databases.</p>\n",
    "<p>There is no input and output necessary for you to run this module. By downloading all of those individual programs, you should click <b>\"Run\" button</b> to run it.</p>\n",
    "<ul>\n",
    "  <li>JSON introduction program (<a href=\"https://github.com/daijingz/Algorithm-and-Design/blob/main/JSON_Introduction.py\">JSON_Introduction.py</a>)</li>\n",
    "  <li>mySQL self-introduction database (<a href=\"https://github.com/daijingz/Algorithm-and-Design/blob/main/SelfDatabase1.py\">SelfDatabase1.py</a>)</li>\n",
    "  <li>MongoDB (pymongo) self-introduction database (<a href=\"https://github.com/daijingz/Algorithm-and-Design/blob/main/SelfDatabase2.py\">SelfDatabase2.py</a>)</li>\n",
    "</ul>"
   ]
  },
  {
   "cell_type": "markdown",
   "metadata": {},
   "source": [
    "<b>Module 2: Sorting (Basic Sorting Methods)</b>\n",
    "<p>This module includes 5 different kinds of sorting methods. All of them have input type \"An integer-containing or floating-point-number-containing list\", and they will return the sorted list (very similar as \"sorted\" method). Different sorting represents different kinds of sorting algorithms with different kinds of time complexity (Cost). Their basic mechanisms are based on information provided by documentations, textbooks and online tutorials.</p>\n",
    "<p>Sample input (All Methods): <b>[5,1,4,3,2] or [5.0, 1.0, 4.0, 3.0, 2.0]</b></p>\n",
    "<p>Sample output (All Methods): <b>[1,2,3,4,5] or [1.0, 2.0, 3.0, 4.0, 5.0]</b></p>\n",
    "<ul>\n",
    "  <li>Selection sort (<a href=\"https://github.com/daijingz/Algorithm-and-Design/blob/main/Sort.py\">Sort.py</a>)</li>\n",
    "  <li>Insertion sort (<a href=\"https://github.com/daijingz/Algorithm-and-Design/blob/main/Sort.py\">Sort.py</a>)</li>\n",
    "  <li>Merge sort (<a href=\"https://github.com/daijingz/Algorithm-and-Design/blob/main/Sort.py\">Sort.py</a>)</li>\n",
    "  <li>Shell sort (<a href=\"https://github.com/daijingz/Algorithm-and-Design/blob/main/Sort.py\">Sort.py</a>)</li>\n",
    "  <li>Quick sort (<a href=\"https://github.com/daijingz/Algorithm-and-Design/blob/main/Sort.py\">Sort.py</a>)</li>\n",
    "  <li>Unit testing (test cases) (<a href=\"https://github.com/daijingz/Algorithm-and-Design/blob/main/TestSort.py\">TestSort.py</a>)</li>\n",
    "</ul>"
   ]
  },
  {
   "cell_type": "markdown",
   "metadata": {},
   "source": [
    "<b>Module 3: BFS and DFS</b>\n",
    "<p>This module includes breadth first search (<b>BFS</b>) and depth first search (<b>DFS</b>) implementations on both undirected and directed graphs. With a start node, BFS algorithm and DFS algorithm go through all nodes and returns the sequence of visiting nodes. File includes analysis and proofs of time complexity.</p>\n",
    "<p>Sample input (All Methods): <b>A graph object with 6 nodes (0, 1, 2, 3, 4, 5) and 6 edges (0-1, 0-2, 0-3, 0-4, 1-3, 2-5)</b></p>\n",
    "<pre>\n",
    "graph1 = Graph(False)\n",
    "graph1.add_edge((0, 1))\n",
    "graph1.add_edge((0, 2))\n",
    "graph1.add_edge((0, 3))\n",
    "graph1.add_edge((0, 4))\n",
    "graph1.add_edge((1, 3))\n",
    "graph1.add_edge((2, 5))\n",
    "</pre>\n",
    "<p>Sample output (All Methods): <b>A list with all visited nodes (sequential)</b></p>\n",
    "<pre>\n",
    "[0, 1, 2, 3, 4, 5]\n",
    "</pre>\n",
    "<ul>\n",
    "  <li>Breadth-First-Search (BFS) (<a href=\"https://github.com/daijingz/Algorithm-and-Design/blob/main/BFS.py\">BFS.py</a>)</li>\n",
    "  <li>Depth-First-Search (DFS) (<a href=\"https://github.com/daijingz/Algorithm-and-Design/blob/main/DFS.py\">DFS.py</a>)</li>\n",
    "  <li>BFS Unit testing (test cases) (<a href=\"https://github.com/daijingz/Algorithm-and-Design/blob/main/TestBFS.py\">TestBFS.py</a>)</li>\n",
    "  <li>Unit testing (test cases) (<a href=\"https://github.com/daijingz/Algorithm-and-Design/blob/main/TestDFS.py\">TestDFS.py</a>)</li>\n",
    "</ul>"
   ]
  },
  {
   "cell_type": "markdown",
   "metadata": {},
   "source": [
    "<b>Module 4: Sorting (Interesting Sorting Methods)</b>\n",
    "<p>This module includes 3 different kinds of sorting methods. All of them have input type \"An integer-containing or floating-point-number-containing list\", and they will return the sorted list (very similar as \"sorted\" method). Different sorting represents different kinds of sorting algorithms with different kinds of time complexity (Cost). Their basic mechanisms are based on information provided by documentations, textbooks and online tutorials.</p>\n",
    "<p>Sample input (All Methods): <b>[5,1,4,3,2] or [5.0, 1.0, 4.0, 3.0, 2.0]</b></p>\n",
    "<p>Sample output (All Methods): <b>[1,2,3,4,5] or [1.0, 2.0, 3.0, 4.0, 5.0]</b></p>\n",
    "<ul>\n",
    "  <li>Heap sort (<a href=\"https://github.com/daijingz/Algorithm-and-Design/blob/main/Sort2.py\">Sort2.py</a>)</li>\n",
    "  <li>Radix sort (<a href=\"https://github.com/daijingz/Algorithm-and-Design/blob/main/Sort2.py\">Sort2.py</a>)</li>\n",
    "  <li>Bucket sort (<a href=\"https://github.com/daijingz/Algorithm-and-Design/blob/main/Sort2.py\">Sort2.py</a>)</li>\n",
    "</ul>"
   ]
  },
  {
   "cell_type": "markdown",
   "metadata": {},
   "source": [
    "<b>Module 5: 2-Dimensional Array (2D array)</b>\n",
    "<p>At the present, 2-Dimensional arrays have wide uses. This module includes 3 kinds of </p>\n",
    "<ul>\n",
    "  <li>2D-Array Implementation 1: List Implementation (<a href=\"https://github.com/daijingz/Algorithm-and-Design/blob/main/2DArray.py\">2DArray.py</a>)</li>\n",
    "  <li>2D-Array Dictionary Implementation 2: Implementation (<a href=\"https://github.com/daijingz/Algorithm-and-Design/blob/main/2DArray2.py\">2DArray2.py</a>)</li>\n",
    "  <li>2D-Array Implementation 3: Stack Implementation (<a href=\"https://github.com/daijingz/Algorithm-and-Design/blob/main/2DArray3.py\">2DArray3.py</a>)</li>\n",
    "</ul>"
   ]
  },
  {
   "cell_type": "markdown",
   "metadata": {},
   "source": [
    "<b>Module 6: Hiring problem</b>\n",
    "<p>Suppose you are a recruitor at a company and you are having interviews with job applicants. You have standards (e.g. cutoff) about selecting an applicant who participates in the interviews. And there is a group of applicants with different presence of ability. The algorithm helps you to find the best way to get a good hiring with the lowest cost. This program includes many different implementations of algorithms.</p>"
   ]
  },
  {
   "cell_type": "markdown",
   "metadata": {},
   "source": [
    "<b>Module 7: Stack and Queue</b>\n",
    "<p>Stack and queue are 2 kinds of data structure in algorithms.</p>"
   ]
  },
  {
   "cell_type": "markdown",
   "metadata": {},
   "source": [
    "<b>Module 8: Tree (Basic-Structure Tree)</b>"
   ]
  },
  {
   "cell_type": "markdown",
   "metadata": {},
   "source": [
    "<b>Module 9: Linked List</b>"
   ]
  },
  {
   "cell_type": "markdown",
   "metadata": {},
   "source": [
    "<b>Module 10: Rod Cutting Problem</b>\n",
    "<p>Assume you have a given length of rod that </p>"
   ]
  },
  {
   "cell_type": "markdown",
   "metadata": {},
   "source": [
    "<b>Module 11: Hash Table</b>"
   ]
  },
  {
   "cell_type": "code",
   "execution_count": null,
   "metadata": {},
   "outputs": [],
   "source": []
  }
 ],
 "metadata": {
  "kernelspec": {
   "display_name": "Python 3",
   "language": "python",
   "name": "python3"
  },
  "language_info": {
   "codemirror_mode": {
    "name": "ipython",
    "version": 3
   },
   "file_extension": ".py",
   "mimetype": "text/x-python",
   "name": "python",
   "nbconvert_exporter": "python",
   "pygments_lexer": "ipython3",
   "version": "3.8.5"
  }
 },
 "nbformat": 4,
 "nbformat_minor": 4
}
