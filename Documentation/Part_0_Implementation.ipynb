{
 "cells": [
  {
   "cell_type": "markdown",
   "metadata": {},
   "source": [
    "<h1>Algorithms and Designs Documentation Part 0: Implementation</h1>"
   ]
  },
  {
   "cell_type": "markdown",
   "metadata": {},
   "source": [
    "<b>Author: Jingze Dai</b>\n",
    "<p>McMaster University, Honors Computer Science (Coop) student (Currently 4th year)</p>\n",
    "<p>School Email Address: daij24@mcmaster.ca</p>\n",
    "<p>Preferred Email Address: david1147062956@gmail.com</p>\n",
    "<p>Email Address: david1147062956@163.com</p>\n",
    "<a href=\"https://github.com/daijingz\">Github Homepage</a>\n",
    "<a href=\"https://www.linkedin.com/in/jingze-dai/\">Linkedin Webpage</a>"
   ]
  },
  {
   "cell_type": "markdown",
   "metadata": {},
   "source": [
    "<i>This project is mainly about algorithms' designs and implementations. This project includes more than 70 kinds of algorithm introduced by online tutorials, websites, textbooks, documentations and other resources. This page includes a complete menu for explaining categories of algorithms and other programs. To find the implementation file, please look at the file name provides on the back side of different modules (including links).</i>"
   ]
  },
  {
   "cell_type": "markdown",
   "metadata": {},
   "source": [
    "<i>Because of time limits, lots of works have not been uploaded to this repository. Sorry for inconvenience. More coding categories and information is coming soon.</i>"
   ]
  },
  {
   "cell_type": "markdown",
   "metadata": {},
   "source": [
    "<i>Your Feedback is important for David's further development. If you want to give feedbacks and suggestions, or you want to participate in working and learning together, please email David at daij24@mcmaster.ca. If you want David to provide contributions to your opensource project or you want David to solve any related programming issues, please email David at daij24@mcmaster.ca as well. Thank you for your help.</i>"
   ]
  },
  {
   "cell_type": "markdown",
   "metadata": {},
   "source": [
    "<b><u>Module 0: External Usages of Libraries and Tools</u></b>\n",
    "<br>\n",
    "<p><b>matplotlib: </b> A python library for data visualization (e.g. drawing diagrams and sheets)</p>\n",
    "<ul>\n",
    "  <li>Plotting program results and visualizing them</li>\n",
    "</ul>\n",
    "<p><b>numpy: </b> a professional scientific-computing library</p>\n",
    "<ul>\n",
    "  <li>Building professional mathematical equations, points, and functions</li>\n",
    "  <li>Helps other program sections to have better calculations</li>\n",
    "</ul>\n",
    "<p><b>JSON: </b> reading, writing and accessing JSON files (excel files are compatible as well)</p>\n",
    "<p><b>Pandas: </b> data analysis and manipulation tools</p>\n"
   ]
  },
  {
   "cell_type": "markdown",
   "metadata": {},
   "source": [
    "<b><u>Module 1: Self-Introduction</u></b>\n",
    "<p>This module is mainly about the author's self introduction and basic information. (i.e. education, working and volunteering experience, skills and projects) This project uses JSON file handling and different kinds of database (i.e. <b>MySQL</b> in SQL tools and <b>JSON</b> library methods and implementations) to represent these kinds of basic information with different objects' representations. Please use programs to load data on those databases.</p>\n",
    "<p>There is <b>NO</b> input and output necessary for you to run this module. By downloading all of those individual programs, you should click <b>\"Run\" button</b> to run it.</p>\n",
    "<ul>\n",
    "  <li>Python JSON introduction program 1 (reading and writing JSON files) (<a href=\"https://github.com/daijingz/Algorithm-and-Design/blob/main/JSON_Introduction.py\">JSON_Introduction.py</a>)</li>\n",
    "  <li>Python JSON introduction program 2 (writing all information in a JSON file) (<a href=\"https://github.com/daijingz/Algorithm-and-Design/blob/main/SelfDatabase2.py\">SelfDatabase2.py</a>)</li>\n",
    "  <li>Python mySQL self-introduction data query program (<a href=\"https://github.com/daijingz/Algorithm-and-Design/blob/main/SelfDatabase1.py\">SelfDatabase.py</a>)</li>\n",
    "  <li>Python mySQL self-introduction database (<a href=\"https://github.com/daijingz/Algorithm-and-Design/blob/main/SelfDatabase1.py\">SelfDatabase.py</a>)</li>\n",
    "  <li>C++ introduction program</li>\n",
    "  <li>Java introduction program</li>\n",
    "</ul>"
   ]
  },
  {
   "cell_type": "markdown",
   "metadata": {},
   "source": [
    "<b><u>Module 2: Sorting (Basic Sorting Methods)</u></b>\n",
    "<p>This module includes 5 different kinds of sorting methods. All of them have input type \"An integer-containing or floating-point-number-containing list\", and they will return the sorted list (very similar as \"sorted\" method). Different sorting represents different kinds of sorting algorithms with different kinds of time complexity (Cost). Their basic mechanisms are based on information provided by documentations, textbooks and online tutorials.</p>\n",
    "<p>Sample input (All Methods): <b>[5,1,4,3,2] or [5.0, 1.0, 4.0, 3.0, 2.0]</b></p>\n",
    "<p>Sample output (All Methods): <b>[1,2,3,4,5] or [1.0, 2.0, 3.0, 4.0, 5.0]</b></p>\n",
    "<ul>\n",
    "  <li>Python Selection sort (<a href=\"https://github.com/daijingz/Algorithm-and-Design/blob/main/Sort.py\">Sort.py</a>)</li>\n",
    "  <li>Python Insertion sort (<a href=\"https://github.com/daijingz/Algorithm-and-Design/blob/main/Sort.py\">Sort.py</a>)</li>\n",
    "  <li>Python Merge sort (<a href=\"https://github.com/daijingz/Algorithm-and-Design/blob/main/Sort.py\">Sort.py</a>)</li>\n",
    "  <li>Python Shell sort (<a href=\"https://github.com/daijingz/Algorithm-and-Design/blob/main/Sort.py\">Sort.py</a>)</li>\n",
    "  <li>Python Quick sort (<a href=\"https://github.com/daijingz/Algorithm-and-Design/blob/main/Sort.py\">Sort.py</a>)</li>\n",
    "  <li>Python Unit testing (test cases) (<a href=\"https://github.com/daijingz/Algorithm-and-Design/blob/main/TestSort.py\">TestSort.py</a>)</li>\n",
    "</ul>"
   ]
  },
  {
   "cell_type": "markdown",
   "metadata": {},
   "source": [
    "<b><u>Module 3: BFS and DFS</u></b>\n",
    "<p>This module includes breadth first search (<b>BFS</b>) and depth first search (<b>DFS</b>) implementations on both undirected and directed graphs. With a start node, BFS algorithm and DFS algorithm go through all nodes and returns the sequence of visiting nodes. File includes analysis and proofs of time complexity.</p>\n",
    "<p>Sample input (All Methods): <b>A graph object with 6 nodes (0, 1, 2, 3, 4, 5) and 6 edges (0-1, 0-2, 0-3, 0-4, 1-3, 2-5)</b></p>\n",
    "<pre>\n",
    "graph1 = Graph(False)\n",
    "graph1.add_edge((0, 1))\n",
    "graph1.add_edge((0, 2))\n",
    "graph1.add_edge((0, 3))\n",
    "graph1.add_edge((0, 4))\n",
    "graph1.add_edge((1, 3))\n",
    "graph1.add_edge((2, 5))\n",
    "</pre>\n",
    "<p>Sample output (All Methods): <b>A list with all visited nodes (sequential)</b></p>\n",
    "<pre>\n",
    "[0, 1, 2, 3, 4, 5]\n",
    "</pre>\n",
    "<ul>\n",
    "  <li>Breadth-First-Search (BFS) (<a href=\"https://github.com/daijingz/Algorithm-and-Design/blob/main/BFS.py\">BFS.py</a>)</li>\n",
    "  <li>Depth-First-Search (DFS) (<a href=\"https://github.com/daijingz/Algorithm-and-Design/blob/main/DFS.py\">DFS.py</a>)</li>\n",
    "  <li>BFS Unit testing (test cases) (<a href=\"https://github.com/daijingz/Algorithm-and-Design/blob/main/TestBFS.py\">TestBFS.py</a>)</li>\n",
    "  <li>Unit testing (test cases) (<a href=\"https://github.com/daijingz/Algorithm-and-Design/blob/main/TestDFS.py\">TestDFS.py</a>)</li>\n",
    "</ul>"
   ]
  },
  {
   "cell_type": "markdown",
   "metadata": {},
   "source": [
    "<b><u>Module 4: Sorting (Interesting Sorting Methods)</u></b>\n",
    "<p>This module includes 3 different kinds of sorting methods. All of them have input type \"An integer-containing or floating-point-number-containing list\", and they will return the sorted list (very similar as \"sorted\" method). Different sorting represents different kinds of sorting algorithms with different kinds of time complexity (Cost). Their basic mechanisms are based on information provided by documentations, textbooks and online tutorials.</p>\n",
    "<p>Sample input (All Methods): <b>[5,1,4,3,2] or [5.0, 1.0, 4.0, 3.0, 2.0]</b></p>\n",
    "<p>Sample output (All Methods): <b>[1,2,3,4,5] or [1.0, 2.0, 3.0, 4.0, 5.0]</b></p>\n",
    "<ul>\n",
    "  <li>Heap sort (<a href=\"https://github.com/daijingz/Algorithm-and-Design/blob/main/Sort2.py\">Sort2.py</a>)</li>\n",
    "  <li>Radix sort (<a href=\"https://github.com/daijingz/Algorithm-and-Design/blob/main/Sort2.py\">Sort2.py</a>)</li>\n",
    "  <li>Bucket sort (<a href=\"https://github.com/daijingz/Algorithm-and-Design/blob/main/Sort2.py\">Sort2.py</a>)</li>\n",
    "</ul>"
   ]
  },
  {
   "cell_type": "markdown",
   "metadata": {},
   "source": [
    "<b><u>Module 5: 2-Dimensional Array (2D array)</u></b>\n",
    "<p>At the present, 2-Dimensional arrays have wide uses. This module includes several kinds of 2-dimensional array implementations with different algorithm design: using arrays to implement 2D-array, </p>\n",
    "<p>Sample input: [[1,2,3,4,5], [0,9,8,7,6], [1,1,1,1,1], [2,2,2,2,2]]</p>\n",
    "<pre>\n",
    "1 2 3 4 5\n",
    "0 9 8 7 6\n",
    "1 1 1 1 1\n",
    "2 2 2 2 2\n",
    "</pre>\n",
    "<p>Sample output (All Methods): There is no output in this module. Different functions have different results</p>\n",
    "<ul>\n",
    "  <li>2D-Array Implementation 1: List Implementation (<a href=\"https://github.com/daijingz/Algorithm-and-Design/blob/main/2DArray.py\">2DArray.py</a>)</li>\n",
    "  <li>2D-Array Dictionary Implementation 2: Implementation (<a href=\"https://github.com/daijingz/Algorithm-and-Design/blob/main/2DArray2.py\">2DArray2.py</a>)</li>\n",
    "  <li>2D-Array Implementation 3: Stack Implementation (<a href=\"https://github.com/daijingz/Algorithm-and-Design/blob/main/2DArray3.py\">2DArray3.py</a>)</li>\n",
    "</ul>"
   ]
  },
  {
   "cell_type": "markdown",
   "metadata": {},
   "source": [
    "<b><u>Module 6: Hiring problem</u></b>\n",
    "<p>Suppose you are a recruitor at a company and you are having interviews with job applicants. You have standards (e.g. cutoff) about selecting an applicant who participates in the interviews. And there is a group of applicants with different presence of ability. Each time you can only have one applicant on your interview, and taking an interview has costs. The algorithm helps you to find the best way to get a good hiring with the lowest cost.</p>\n"
   ]
  },
  {
   "cell_type": "markdown",
   "metadata": {},
   "source": [
    "<b><u>Module 7: Stack and Queue</u></b>\n",
    "<p>Stack and queue are a pair of data structures. Stack has </p>"
   ]
  },
  {
   "cell_type": "markdown",
   "metadata": {},
   "source": [
    "<b>Module 8: Tree (Basic-Structure Tree)</b>"
   ]
  },
  {
   "cell_type": "markdown",
   "metadata": {},
   "source": [
    "<b>Module 9: Linked List</b>"
   ]
  },
  {
   "cell_type": "markdown",
   "metadata": {},
   "source": [
    "<b>Module 10: Rod Cutting Problem</b>\n",
    "<p>Assume you have a given length of rod waiting to be cut and sold. There is a given list of prices, which includes </p>"
   ]
  },
  {
   "cell_type": "markdown",
   "metadata": {},
   "source": [
    "<b>Module 11: Hash Table</b>\n",
    "<p>Hash table is a </p>"
   ]
  },
  {
   "cell_type": "markdown",
   "metadata": {},
   "source": [
    "<b>Module 12: Union-Find Problem</b>\n",
    "<p>There is a graph (consists of connected nodes, disconnected nodes, and connections)</p>"
   ]
  },
  {
   "cell_type": "markdown",
   "metadata": {},
   "source": [
    "<b>Module 13: Machine Learning: curve fitting</b>\n",
    "<p>With a set of given data points (2 dimensional) points. These programs use least-square calculations to find their </p>"
   ]
  },
  {
   "cell_type": "code",
   "execution_count": null,
   "metadata": {},
   "outputs": [],
   "source": []
  }
 ],
 "metadata": {
  "kernelspec": {
   "display_name": "Python 3",
   "language": "python",
   "name": "python3"
  },
  "language_info": {
   "codemirror_mode": {
    "name": "ipython",
    "version": 3
   },
   "file_extension": ".py",
   "mimetype": "text/x-python",
   "name": "python",
   "nbconvert_exporter": "python",
   "pygments_lexer": "ipython3",
   "version": "3.8.5"
  }
 },
 "nbformat": 4,
 "nbformat_minor": 4
}
