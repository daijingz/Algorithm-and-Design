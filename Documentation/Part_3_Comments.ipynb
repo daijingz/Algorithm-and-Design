{
 "cells": [
  {
   "cell_type": "markdown",
   "metadata": {},
   "source": [
    "<h1>Algorithms and Designs Documentation Part 3: Comments</h1>"
   ]
  },
  {
   "cell_type": "markdown",
   "metadata": {},
   "source": [
    "<b>Author: Jingze Dai</b>\n",
    "<p>McMaster University, Honors Computer Science (Coop) student (Currently 4th year)</p>\n",
    "<p>Preferred Email Address: daij24@mcmaster.ca</p>\n",
    "<p>Email Address: david1147062956@163.com</p>\n",
    "<a href=\"https://github.com/daijingz\">Github Homepage</a>\n",
    "<a href=\"https://www.linkedin.com/in/jingze-dai/\">Linkedin Webpage</a>"
   ]
  },
  {
   "cell_type": "markdown",
   "metadata": {},
   "source": [
    "<i>This project is mainly about algorithms' designs and implementations. This project includes more than 70 kinds of algorithm introduced by online tutorials, websites, textbooks, documentations and other resources. This page includes a complete menu for explaining categories of algorithms and other programs. To find the implementation file, please look at the file name provides on the back side of different modules.</i>"
   ]
  },
  {
   "cell_type": "markdown",
   "metadata": {},
   "source": [
    "<i>Because of time limits, lots of works have not been uploaded to this repository. Sorry for inconvenience. More Information is coming soon.</i>"
   ]
  },
  {
   "cell_type": "markdown",
   "metadata": {},
   "source": [
    "<i>Your Feedback is important for David's further development. If you want to give feedbacks and suggestions, or you want to participate in working and learning together, please email David at daij24@mcmaster.ca. If you want David to provide contributions to your opensource project or you want David to help you with any programming issues, please email David at daij24@mcmaster.ca as well. Thank you for your help.</i>"
   ]
  },
  {
   "cell_type": "markdown",
   "metadata": {},
   "source": [
    "<h3>Comment Instructions</h3>"
   ]
  },
  {
   "cell_type": "markdown",
   "metadata": {},
   "source": [
    "<b>Module 0: Introduction</b>"
   ]
  },
  {
   "cell_type": "markdown",
   "metadata": {},
   "source": [
    "<p>This projects have a lot of programs, designs and proofs that may become confusing. In order to make sure every part is easy to understand. Each part of code has comments to explain what it is going to do and what kinds of information it has.</p>"
   ]
  },
  {
   "cell_type": "markdown",
   "metadata": {},
   "source": [
    "<b>Module 1.1: Basic Information (Python regular file version)</b>\n",
    "<p>On the top of each file, there are 5 lines about basic information of projects and authors:</p>\n",
    "<ul>\n",
    "  <li>First Line (Author Name)</li>\n",
    "  <li>Second Line (Email Address)</li>\n",
    "  <li>Third Line (Github Homepage)</li>\n",
    "  <li>Forth Line (Linkedin Homepage)</li>\n",
    "  <li>Fifth Line (Description)</li>\n",
    "</ul>"
   ]
  },
  {
   "cell_type": "markdown",
   "metadata": {},
   "source": [
    "<b>Sample comments</b>\n",
    "<p># Author: Jingze Dai</p>\n",
    "<p># Email Address: daij24@mcmaster.ca or david1147062956@163.com</p>\n",
    "<p># Github: https://github.com/daijingz</p>\n",
    "<p># Linkedin: https://www.linkedin.com/in/jingze-dai/</p>\n",
    "<p># Description: 2-dimensional array implementation 1</p>"
   ]
  },
  {
   "cell_type": "markdown",
   "metadata": {},
   "source": [
    "<b>Module 1.2: Basic Information (Java regular file version)</b>\n",
    "<p>On the top of each file, there are 5 lines about basic information of projects and authors:</p>\n",
    "<ul>\n",
    "  <li>First Line (Author Name)</li>\n",
    "  <li>Second Line (Email Address)</li>\n",
    "  <li>Third Line (Github Homepage)</li>\n",
    "  <li>Forth Line (Linkedin Homepage)</li>\n",
    "  <li>Fifth Line (Description)</li>\n",
    "</ul>"
   ]
  },
  {
   "cell_type": "markdown",
   "metadata": {},
   "source": [
    "<b>Sample comments</b>\n",
    "<p>// Author: Jingze Dai</p>\n",
    "<p>// Email Address: daij24@mcmaster.ca or david1147062956@163.com</p>\n",
    "<p>// Github: https://github.com/daijingz</p>\n",
    "<p>// Linkedin: https://www.linkedin.com/in/jingze-dai/</p>\n",
    "<p>// Description: 2-dimensional array implementation 1</p>"
   ]
  },
  {
   "cell_type": "markdown",
   "metadata": {},
   "source": [
    "<b>Module 2: Doxygen (Machine Comments)</b>"
   ]
  },
  {
   "cell_type": "code",
   "execution_count": null,
   "metadata": {},
   "outputs": [],
   "source": []
  }
 ],
 "metadata": {
  "kernelspec": {
   "display_name": "Python 3",
   "language": "python",
   "name": "python3"
  },
  "language_info": {
   "codemirror_mode": {
    "name": "ipython",
    "version": 3
   },
   "file_extension": ".py",
   "mimetype": "text/x-python",
   "name": "python",
   "nbconvert_exporter": "python",
   "pygments_lexer": "ipython3",
   "version": "3.8.5"
  }
 },
 "nbformat": 4,
 "nbformat_minor": 4
}
