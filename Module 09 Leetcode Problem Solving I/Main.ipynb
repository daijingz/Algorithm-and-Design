{
 "cells": [
  {
   "cell_type": "markdown",
   "metadata": {},
   "source": [
    "<h1>Module 9: Leetcode Problem Solving I</h1>"
   ]
  },
  {
   "cell_type": "markdown",
   "metadata": {},
   "source": [
    "<b>Author: Jingze Dai</b>\n",
    "<p>McMaster University, Honors Computer Science (Coop) student (Currently 4th year)</p>\n",
    "<p>School Email Address: daij24@mcmaster.ca</p>\n",
    "<p>Preferred Email Address: david1147062956@gmail.com</p>\n",
    "<p>Email Address: david1147062956@163.com</p>\n",
    "<a href=\"https://github.com/daijingz\">Github Homepage</a>\n",
    "<a href=\"https://www.linkedin.com/in/jingze-dai/\">Linkedin Webpage</a>"
   ]
  },
  {
   "cell_type": "markdown",
   "metadata": {},
   "source": [
    "<i>This module is based on leetcode exercise questions, problems and puzzles. More information can be found at https://leetcode.com/. There are 10 selected questions in this document with David's written codes.</i>"
   ]
  },
  {
   "cell_type": "markdown",
   "metadata": {},
   "source": [
    "<i>Because of time limits, lots of works have not been uploaded to this repository. Some incomplete parts have already been completed (just not been updated from the github repository). Sorry for the inconvenience. More coding categories and information is coming soon.</i>"
   ]
  },
  {
   "cell_type": "markdown",
   "metadata": {},
   "source": [
    "<i>Your Feedback is important for David's further development. If you want to give feedbacks and suggestions, or you want to participate in working and learning together, please email David at daij24@mcmaster.ca. If you want David to provide contributions to your opensource project or you want David to solve any related programming issues, please email David at daij24@mcmaster.ca as well. Thank you for your help.</i>"
   ]
  },
  {
   "cell_type": "markdown",
   "metadata": {},
   "source": [
    "<h3>Problem 1: Two Sums</h3>"
   ]
  },
  {
   "cell_type": "markdown",
   "metadata": {},
   "source": [
    "<p>Given an array of integers nums and an integer target, return indices of the two numbers such that they add up to target. You may assume that each input would have exactly one solution, and you may not use the same element twice. You can return the answer in any order.</p>\n",
    "<p>Sample Input: nums = [1, 2, 3, 4] and target = 6</p>\n",
    "<p>Sample Output: [1, 3] or [3, 1]</p>"
   ]
  },
  {
   "cell_type": "markdown",
   "metadata": {},
   "source": [
    "<h3>Problem 1: Solutions From David</h3>"
   ]
  },
  {
   "cell_type": "code",
   "execution_count": 1,
   "metadata": {},
   "outputs": [],
   "source": [
    "# The method that gets index of elements\n",
    "def twoSum(nums, target):\n",
    "        if len(nums) < 2:\n",
    "            return []\n",
    "        i = 0\n",
    "        while i < len(nums):\n",
    "            newnums = nums[i+1:]\n",
    "            \n",
    "            for j in newnums:\n",
    "                if j + nums[i] == target:\n",
    "                    return [nums.index(nums[i])] + [newnums.index(j) + i + 1]\n",
    "            i += 1"
   ]
  },
  {
   "cell_type": "code",
   "execution_count": 2,
   "metadata": {},
   "outputs": [
    {
     "name": "stdout",
     "output_type": "stream",
     "text": [
      "True\n"
     ]
    }
   ],
   "source": [
    "# Test Cases\n",
    "nums = [1, 2, 3, 4]\n",
    "target = 6\n",
    "print(twoSum(nums, target) == [1, 3])"
   ]
  },
  {
   "cell_type": "markdown",
   "metadata": {},
   "source": [
    "<h3>Problem 2: Add Two Numbers</h3>"
   ]
  },
  {
   "cell_type": "markdown",
   "metadata": {},
   "source": [
    "<p>You are given two non-empty linked lists representing two non-negative integers. The digits are stored in reverse order, and each of their nodes contains a single digit. Add the two numbers and return the sum as a linked list. Assume the two numbers do not contain any leading zero, except the number 0 itself.</p>\n",
    "<p>Sample Input: l1 = [2,4,3], so 2 -> 4 -> 3, l2 = [5,6,4], so 5 -> 6 -> 4</p>\n",
    "<p>Sample Output: [7,0,8], so 7 -> 0 -> 8</p>"
   ]
  },
  {
   "cell_type": "markdown",
   "metadata": {},
   "source": [
    "<h3>Problem 2: Solutions From David</h3>"
   ]
  },
  {
   "cell_type": "code",
   "execution_count": 3,
   "metadata": {},
   "outputs": [],
   "source": [
    "# Definition for singly-linked list.\n",
    "class ListNode(object):\n",
    "    def __init__(self, val=0, next=None):\n",
    "        self.val = val\n",
    "        self.next = next\n",
    "        \n",
    "# Using String is much easier, but here I use the list\n",
    "class Solution(object):\n",
    "    def addTwoNumbers(self, l1, l2):\n",
    "        list1 = []\n",
    "        while l1 is not None:\n",
    "            list1 += [l1.val]\n",
    "            l1 = l1.next\n",
    "            \n",
    "        list2 = []\n",
    "        while l2 is not None:\n",
    "            list2 += [l2.val]\n",
    "            l2 = l2.next\n",
    "            \n",
    "        longerlen = max(list1, list2)\n",
    "        diff = abs(len(list1) - len(list2))\n",
    "        i = 0\n",
    "        if len(list1) >= len(list2):\n",
    "            while i < diff:\n",
    "                list2 += [0]\n",
    "                i += 1\n",
    "        else:\n",
    "            while i < diff:\n",
    "                list1 += [0]\n",
    "                i += 1\n",
    "                \n",
    "        list1 = list1 + [0]\n",
    "        list2 = list2 + [0]\n",
    "                \n",
    "        j = 0\n",
    "        bufferl = 0\n",
    "        outputl = []\n",
    "        while j < len(longerlen) + 1:\n",
    "            if list1[j] + list2[j] + bufferl >= 10 and bufferl == 0:\n",
    "                outputl += [(list1[j] + list2[j]) % 10]\n",
    "                bufferl = 1\n",
    "            elif list1[j] + list2[j] + bufferl >= 10 and bufferl == 1:\n",
    "                outputl += [(list1[j] + list2[j] + bufferl) % 10]\n",
    "                bufferl = 1\n",
    "            elif list1[j] + list2[j] + bufferl < 10 and bufferl == 1:\n",
    "                outputl += [(list1[j] + list2[j] + bufferl) % 10]\n",
    "                bufferl = 0\n",
    "            else:\n",
    "                outputl += [(list1[j] + list2[j]) % 10]\n",
    "            j += 1\n",
    "            \n",
    "        if outputl[-1] == 0:\n",
    "            outputl = outputl[:-1]\n",
    "\n",
    "        output = ListNode(outputl[-1])\n",
    "        outputl = outputl[:-1]\n",
    "            \n",
    "        while len(outputl) > 0:\n",
    "            output = ListNode (outputl[-1], output)\n",
    "            outputl = outputl[:-1]\n",
    "        return output"
   ]
  },
  {
   "cell_type": "code",
   "execution_count": 4,
   "metadata": {},
   "outputs": [
    {
     "name": "stdout",
     "output_type": "stream",
     "text": [
      "5\n",
      "9\n",
      "7\n"
     ]
    }
   ],
   "source": [
    "# Test Cases\n",
    "L1 = ListNode(2)\n",
    "L1 = ListNode(3, L1)\n",
    "L1 = ListNode(4, L1)\n",
    "\n",
    "L2 = ListNode(5)\n",
    "L2 = ListNode(6, L2)\n",
    "L2 = ListNode(1, L2)\n",
    "print(Solution.addTwoNumbers(Solution, L1, L2).val)\n",
    "print(Solution.addTwoNumbers(Solution, L1, L2).next.val)\n",
    "print(Solution.addTwoNumbers(Solution, L1, L2).next.next.val)"
   ]
  },
  {
   "cell_type": "markdown",
   "metadata": {},
   "source": [
    "<h3>Problem 3: Longest Substring Without Repeating Characters</h3>"
   ]
  },
  {
   "cell_type": "markdown",
   "metadata": {},
   "source": [
    "<p>Given a string s, find the length of the longest substring without repeating characters.</p>"
   ]
  },
  {
   "cell_type": "markdown",
   "metadata": {},
   "source": [
    "<h3>Problem 3: Solutions From David</h3>"
   ]
  },
  {
   "cell_type": "code",
   "execution_count": 5,
   "metadata": {},
   "outputs": [],
   "source": [
    "from itertools import *\n",
    "\n",
    "class Solution(object):\n",
    "    def lengthOfLongestSubstring(self, s):\n",
    "        menu = []\n",
    "        for i in s:\n",
    "            if menu.count(i) == 0:\n",
    "                menu += [i]\n",
    "        sn = list(s)\n",
    "        inputl = [s[x:y] for x, y in combinations(\n",
    "            range(len(s) + 1), r = 2)]\n",
    "        print(inputl)\n",
    "        output = \"\"\n",
    "        k = len(inputl) - 1\n",
    "        while k >= 0:\n",
    "            for l in inputl[k]:\n",
    "                isit = True\n",
    "                if inputl[k].count(l) > 1:\n",
    "                    isit = False\n",
    "                    break\n",
    "            if isit and len(inputl[k]) > len(output):\n",
    "                output = inputl[k]\n",
    "            k -= 1\n",
    "        return len(output)"
   ]
  },
  {
   "cell_type": "code",
   "execution_count": null,
   "metadata": {},
   "outputs": [],
   "source": []
  }
 ],
 "metadata": {
  "kernelspec": {
   "display_name": "Python 3",
   "language": "python",
   "name": "python3"
  },
  "language_info": {
   "codemirror_mode": {
    "name": "ipython",
    "version": 3
   },
   "file_extension": ".py",
   "mimetype": "text/x-python",
   "name": "python",
   "nbconvert_exporter": "python",
   "pygments_lexer": "ipython3",
   "version": "3.8.5"
  }
 },
 "nbformat": 4,
 "nbformat_minor": 4
}
